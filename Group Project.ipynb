{
 "cells": [
  {
   "cell_type": "markdown",
   "id": "f279f592-4dcc-4837-abb5-498634a8f36b",
   "metadata": {},
   "source": [
    "# DSCI 100 Group Project"
   ]
  },
  {
   "cell_type": "markdown",
   "id": "c757f512-23c2-4a54-9226-39f72a3f18cd",
   "metadata": {},
   "source": [
    "## Introduction"
   ]
  },
  {
   "cell_type": "markdown",
   "id": "da89492d-fc5d-46cd-92c0-f1c261e8bf26",
   "metadata": {},
   "source": [
    "## "
   ]
  }
 ],
 "metadata": {
  "kernelspec": {
   "display_name": "R",
   "language": "R",
   "name": "ir"
  },
  "language_info": {
   "codemirror_mode": "r",
   "file_extension": ".r",
   "mimetype": "text/x-r-source",
   "name": "R",
   "pygments_lexer": "r",
   "version": "4.3.3"
  }
 },
 "nbformat": 4,
 "nbformat_minor": 5
}
